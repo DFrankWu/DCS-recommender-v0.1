{
 "cells": [
  {
   "cell_type": "markdown",
   "id": "bbd3913e",
   "metadata": {},
   "source": [
    "# DCS World Campaign Recommender v0.1 \n",
    "- Donghang Wu ©2022"
   ]
  },
  {
   "cell_type": "markdown",
   "id": "56b2f0df",
   "metadata": {},
   "source": [
    "### Project Goals\n",
    "The goal of this project is to help DCS users to browse the ever growing campaign DLC list and recommend \n",
    "appropriate campaigns for their next purchase.\n",
    "\n",
    "The initial version of the recommender will be based on a NLP implementation using solely the product info provided on \n",
    "DCS WORLD website (just like how a user receives info), with collaborative filtering added later when data becomes available.\n",
    "\n",
    "This project will first extract product info from [DCS-WORLD.com](https://www.digitalcombatsimulator.com) and\n",
    "save as csv file form, ready for general analysis and other product usage.\n",
    "\n",
    "To use the data on `dcs_recommender`, one first need to clean unnecessary text parts and concatenate text to form 'tags' column, a **clean** csv with proper tags aggregated is needed for `dcs_recommender` to process.\n",
    " \n",
    "\n",
    "Here are a few questions that this project has sought to answer:\n",
    "- Can the recommender accurately recommend topic related/author related campaign (content based)?\n",
    "- How are those results compared to a *veteran player recommendation*?\n",
    "- How can the recommender take in other domain knowledges that *veteran players* are aware of (such as gameplay quality, type of missions within, mission length, etc.) ?\n",
    "- Will `dcs_recommender` perform better than the current *popular* recommendation presented on DCS website in sales?\n",
    "\n",
    "### Data sources\n",
    "\n",
    "The base product info was provided by [DCS-WORLD.com](https://www.digitalcombatsimulator.com).\n",
    "\n",
    "*future purchase related data may be added from Eagle Dynamics*\n",
    "\n",
    "\n",
    "### Evaluation\n",
    "\n",
    "For v0.1, the simple NLP implementation, `dcs_recommender` is able to recommend campaigns that are strongly related in true content, such as *training campaigns*, *Red Flag campaigns*, and *campaigns with same author* (author names are not included in the tags, so this is actually amazing!)\n",
    "\n",
    "However, there are some siginificant downsides. Since `dcs_recommender` recommends compaigns that date years before and the campaign's build and production quality are simply not comparable to recent ones. Needless to say that old campaigns may be filled with bugs and being poorly maintained, giving players a poor experience.\n",
    "\n",
    "To alleviate this issue, I will add weightings based on campaign publishing date, Steam user reviews and other public available data. The result should favor less on older, more negatively reviewed campaigns, thus completing the 'content filtering' part of the recommender.\n",
    "\n",
    "I expect the model to perform fairly well once 'collaborative filtering' is added, and will present to DCS veteran player groups for evaluation before the official launch."
   ]
  },
  {
   "cell_type": "markdown",
   "id": "4d28113f",
   "metadata": {},
   "source": [
    "\n",
    "## Table of Contents\n",
    "\n",
    "### - Step 1: Web Scraping and data gathering\n",
    "- 1-1: [Scrape product links from main website](#1-1)\n",
    "- 1-2: [Scrape product detailed info from product pages and create `dcs_campaign_data.csv`](#1-2)\n",
    "\n",
    "### - Step 2: Constructing Dataframe and setup data for model building\n",
    "- 2-1: [Loading `dcs_campaign_data.csv` as `campaign_data` and some basic cleaning](#2-1)\n",
    "    - [Dealing with missing values](#2-1_NaN)\n",
    "- 2-2: [Setting up dataframe for vectorization/nltk](#2-2)\n",
    "    \n",
    "\n",
    "### - Step 3: Model building and testing\n",
    "- 3-1 [Creating vectorizer and Vectoring `'tags'` to 2D array](#3-1)\n",
    "- 3-2 [Stemming `'tags'` to improve NLP accuracy](#3-2)\n",
    "- 3-3 [Final Recommender function creation and testings](#3-3)\n",
    "\n",
    "### - Step 4: Pipeline creation and reusability\n",
    "- 4-1 [Creating the `dcs_recommender` class and relating functions](#4-1)\n",
    "- 4-2 [Testing `dcs_recommender` and its methods](#4-2)"
   ]
  },
  {
   "cell_type": "markdown",
   "id": "af0aa81a",
   "metadata": {},
   "source": [
    "### FUTURE TO DO LIST:\n",
    "\n",
    "1. improve model by adding module_requirements\n",
    "1. adding price, review, and other quantative data and clustering models to reinforce the reommender (collaborative filtering)\n",
    "1. taking into account that older campaigns are less maintained, giving them less of a weight in choosing older campaigns\n",
    "1. more robust, proxi matching system, that user only need to enter partial name of the campaign\n",
    "1. implement recommender on other modules such as planes and maps\n",
    "1. add a GUI for user accessibility"
   ]
  },
  {
   "cell_type": "markdown",
   "id": "9f7b3725",
   "metadata": {},
   "source": [
    "## Step 1-1: Parse product links from main website <a name=\"1-1\"></a>"
   ]
  },
  {
   "cell_type": "raw",
   "id": "67dbac1f",
   "metadata": {},
   "source": [
    "import requests\n",
    "from bs4 import BeautifulSoup\n",
    "import pandas as pd\n",
    "\n",
    "baseurl='https://www.digitalcombatsimulator.com'\n",
    "\n",
    "headers = {\n",
    "           'User-Agent': 'Mozilla/5.0 (Macintosh; Intel Mac OS X 10_15_7) AppleWebKit/537.36 (KHTML, like Gecko) Chrome/104.0.0.0 Safari/537.36'\n",
    "           }\n",
    "\n",
    "productlinks = []\n",
    "\n",
    "for x in range(1,7):\n",
    "    r = requests.get(f'https://www.digitalcombatsimulator.com/en/shop/campaigns/?PAGEN_1={x}')\n",
    "    soup = BeautifulSoup(r.content, 'html.parser')\n",
    "    productlist = soup.find_all('h2')\n",
    "    \n",
    "    for item in productlist:\n",
    "        for link in item.find_all('a', href=True):\n",
    "            productlinks.append(baseurl + link['href'])\n",
    "            \n",
    "print(len(productlinks))\n",
    "## Test Complete"
   ]
  },
  {
   "cell_type": "markdown",
   "id": "e4d57da7",
   "metadata": {},
   "source": [
    "## Step 1-2 Parse product detailed info from product pages <a name=\"1-2\"></a>"
   ]
  },
  {
   "cell_type": "raw",
   "id": "bc9438da",
   "metadata": {},
   "source": [
    "# testlink = 'https://www.digitalcombatsimulator.com/en/shop/campaigns/fa-18c_rising_squall_campaign/'\n",
    "\n",
    "dcs_campaign_list = []\n",
    "\n",
    "for link in productlinks:\n",
    "    r = requests.get(link, headers=headers)\n",
    "    soup = BeautifulSoup(r.content, 'html.parser')   \n",
    "\n",
    "    # Parse product name\n",
    "    name = soup.find('h1').text.strip()\n",
    "\n",
    "    # Parse product description (Joined string form)\n",
    "    description = []\n",
    "    for item in soup.find_all('p')[1:]:\n",
    "        container = item.text.strip()\n",
    "        if 'Localization' in container:\n",
    "            break\n",
    "        description.append(container)\n",
    "\n",
    "    description = ' '.join(description)\n",
    "\n",
    "\n",
    "    #Parse product advertised features (Joined string form)\n",
    "    key_features = []\n",
    "    for key in soup.find_all('div', class_='col-xs-9 col-sm-6'):\n",
    "        ulList = key.find_all('li')\n",
    "        for li in ulList:\n",
    "            key_features.append(li.text.strip())      \n",
    "    \n",
    "    # Extract model requirements from the list (end of the key_features list that contains 'DCS')\n",
    "    module_requirements = [i for i in key_features if 'DCS' in i]\n",
    "    # Keep real key_features in list and redefine\n",
    "    key_features = [i for i in key_features if 'DCS' not in i]    \n",
    "\n",
    "    # Parse localization of the module, spliting over voiceovers and subtitles\n",
    "    # Some campaigns are too old that its localization info is not properly displaying, thus some error handling here\n",
    "    try:\n",
    "        localization_vo = soup.find_all('td')[1].text.strip()\n",
    "        localization_text = soup.find_all('td')[3].text.strip()\n",
    "    except:\n",
    "        for item in soup.find_all('p')[1:]:\n",
    "            container = item.text.strip()\n",
    "            if 'Localization:' in container:\n",
    "                localization_vo = container.replace('Localization:', '').strip()\n",
    "                localization_text = container.replace('Localization:', '').strip()\n",
    "\n",
    "        \n",
    "    dcs_campaign = {\n",
    "            'name': name,\n",
    "            'description': description,\n",
    "            'key_features': key_features,\n",
    "            'module_requirements': module_requirements,\n",
    "            'voice_over_loc': localization_vo,\n",
    "            'subtitle_loc': localization_text\n",
    "    }\n",
    "    dcs_campaign_list.append(dcs_campaign)\n",
    "    print('Saving: ', dcs_campaign['name'])\n",
    "\n",
    "\n",
    "\n",
    "df = pd.DataFrame(dcs_campaign_list)\n",
    "df.to_csv('dcs_campaign_data.csv')\n",
    "    \n",
    "print('\\n All data parsing complete, CSV file saved') \n",
    "\n",
    "#     print(f'CAMPAIGN NAME: {name} \\n')\n",
    "#     print(f'PRODUCT DESCRIPTION: {description} \\n')\n",
    "#     print(f'KEY FEATURES: {key_features} \\n')\n",
    "#     print(f'MODULE REQUIREMENTS: {module_requirements} \\n')\n",
    "#     print(f'VOICE OVER: {localization_vo} \\n')\n",
    "#     print(f'SUBTITLE: {localization_text} \\n')"
   ]
  },
  {
   "cell_type": "markdown",
   "id": "0e6da735",
   "metadata": {},
   "source": [
    "## Step 2-1 Loading dataframe and basic cleaning <a name=\"2-1\"></a>"
   ]
  },
  {
   "cell_type": "code",
   "execution_count": null,
   "id": "eb4f07b2",
   "metadata": {},
   "outputs": [],
   "source": [
    "# data related package loading\n",
    "import pandas as pd\n",
    "import numpy as np\n",
    "\n",
    "# model related package loading\n",
    "from sklearn.feature_extraction.text import CountVectorizer\n",
    "from nltk.stem.porter import PorterStemmer\n",
    "from sklearn.metrics.pairwise import cosine_similarity\n",
    "\n",
    "\n",
    "# there will be some regex warnings coming up when dealing with strings in df, ignoreed for presentation purpose\n",
    "import time\n",
    "import warnings\n",
    "warnings.filterwarnings('ignore') # comment out this line to see warnings\n"
   ]
  },
  {
   "cell_type": "markdown",
   "id": "47d23b35",
   "metadata": {},
   "source": [
    "### Loading data from `dcs_campaign_data.csv`\n",
    "\n",
    "- We will **rename** the first column as `'campaign_id'`\n",
    "- Since `'name'` column has author names in them, we will `extract` them and store in a column called `'author'`\n",
    "- **compare** before and after info on `campaign_data` dataframe to confirm existence of `'author'`"
   ]
  },
  {
   "cell_type": "code",
   "execution_count": null,
   "id": "1b3d2c97",
   "metadata": {
    "scrolled": true
   },
   "outputs": [],
   "source": [
    "campaign_data = pd.read_csv('dcs_campaign_data.csv')\n",
    "campaign_data.columns.values[0] = 'campaign_id'\n",
    "\n",
    "print(campaign_data.info())\n",
    "\n",
    "# Extract author to constrcut 'author' column, Strip 'DCS:' from the titles (WARNING: only do ONCE)\n",
    "campaign_data['author'] = campaign_data['name'].str.extract('by(.*)')\n",
    "\n",
    "# Since name of author are left out of tags for now, we will leave them in titles to assess the effectiveness of the model\n",
    "campaign_data['name'] = campaign_data['name'].str.replace('DCS:', '').str.strip().str.extract('(.*)')\n",
    "\n",
    "# print(campaign_data.head(5))\n",
    "print(campaign_data.info())"
   ]
  },
  {
   "cell_type": "markdown",
   "id": "8f6344b4",
   "metadata": {},
   "source": [
    "### Dealing with missing values <a name=\"2-1_NaN\"></a>\n",
    "\n",
    "- There is one product's `'description'` NaN due to a out-dated product, thus DROP the entire `row`\n",
    "- `NaN` in `campaigndata['author']`  means the campaign is made by Eagle Dynamics, thus fillna with `'Eagle Dynamics'`"
   ]
  },
  {
   "cell_type": "code",
   "execution_count": null,
   "id": "1570bda5",
   "metadata": {
    "scrolled": false
   },
   "outputs": [],
   "source": [
    "# One description NaN due to a out-dated product, thus DROP\n",
    "# author NaN means the campaign is made by Eagle Dynamics, thus fill 'Eagle Dynamics'\n",
    "campaign_data['author'] = campaign_data['author'].fillna(value='Eagle Dynamics')\n",
    "campaign_data = campaign_data.dropna()\n",
    "campaign_data.info()\n",
    "\n",
    "# Dataset is clean (Some datapoint may miss 'key_features', meaning the author is too lazy to advertise, no hard feelings)"
   ]
  },
  {
   "cell_type": "markdown",
   "id": "a48c8fe8",
   "metadata": {},
   "source": [
    "## Step 2-2 Setting up dataframe for vectorization/nltk <a name=\"2-2\"></a>\n",
    "\n",
    "1. remove all *comma*, *colon*, *period* and other non-word signs from `campaign_data`\n",
    "1. break sentences into words and store as a *lists* in *columns*, ready for **concatenation**\n",
    "1. **spaces** between *phrases* and *names* are removed for **CONCAT & NLP** purposes"
   ]
  },
  {
   "cell_type": "code",
   "execution_count": null,
   "id": "6815e6a2",
   "metadata": {},
   "outputs": [],
   "source": [
    "# Strip all comma, period, colon from columns\n",
    "campaign_data['description'] = campaign_data['description'].str.replace(',', '').str.replace('.', '').str.replace(':', '')\n",
    "campaign_data['key_features'] = campaign_data['key_features'].str.replace(',', '').str.replace('.', '').str.replace(':', '')\n",
    "campaign_data['voice_over_loc'] = campaign_data['voice_over_loc'].str.replace(',', '').str.replace('.', '').str.replace(':', '')\n",
    "campaign_data['subtitle_loc'] = campaign_data['subtitle_loc'].str.replace(',', '').str.replace('.', '').str.replace(':', '')\n",
    "\n",
    "# Some weird stuff needed to be removed\n",
    "campaign_data['key_features'] = campaign_data['key_features'].str.replace('[', '').str.replace(']', '').str.replace('(', '').str.replace(\")\", \"\")\n",
    "\n",
    "# All splits needed prior to tag merge\n",
    "campaign_data['description'] = campaign_data['description'].apply(lambda x: x.split())\n",
    "campaign_data['key_features'] = campaign_data['key_features'].apply(lambda x: ''.join(x))\n",
    "campaign_data['key_features'] = campaign_data['key_features'].apply(lambda x: x.split())\n",
    "campaign_data['voice_over_loc'] = campaign_data['voice_over_loc'].apply(lambda x: x.split())\n",
    "campaign_data['subtitle_loc'] = campaign_data['subtitle_loc'].apply(lambda x: x.split())\n",
    "\n",
    "# All space removing prior to tag merge\n",
    "campaign_data['module_requirements'] = campaign_data['module_requirements'].str.replace(' ', '')\n",
    "campaign_data['author'] = campaign_data['author'].str.replace(' ', '')\n",
    "\n",
    "campaign_data.head(2)"
   ]
  },
  {
   "cell_type": "markdown",
   "id": "35bfe365",
   "metadata": {},
   "source": [
    "### Concatenate to form `'tags'` column in new df `campaign_data_model`\n",
    "\n",
    "- There are some issues with `author` and `module_requirements` features, they are **excluded** for now"
   ]
  },
  {
   "cell_type": "code",
   "execution_count": null,
   "id": "29c6a02a",
   "metadata": {},
   "outputs": [],
   "source": [
    "#campaign_data['module_requirements'] and campaign_data['author'] have some datatype issues needed to be solved\n",
    "\n",
    "campaign_data['tags'] = campaign_data['description']+campaign_data['key_features']+campaign_data['voice_over_loc']+campaign_data['subtitle_loc']\n",
    "\n",
    "campaign_data_model = campaign_data[['campaign_id','name','tags']]\n",
    "campaign_data_model['tags'] = campaign_data_model['tags'].apply(lambda x:' '.join(x))\n",
    "\n",
    "# A quick check for comfort\n",
    "print(campaign_data_model.head(3))"
   ]
  },
  {
   "cell_type": "code",
   "execution_count": null,
   "id": "04accf5e",
   "metadata": {
    "scrolled": true
   },
   "outputs": [],
   "source": [
    "# lower case all words in tags for NLP preparation\n",
    "campaign_data_model['tags'] = campaign_data_model['tags'].apply(lambda X: X.lower())\n",
    "\n",
    "campaign_data_model.to_csv('dcs_campaign_data_tagged.csv', index=False)\n",
    "# check-up\n",
    "campaign_data_model['tags'][0]"
   ]
  },
  {
   "cell_type": "markdown",
   "id": "0eb9cf93",
   "metadata": {},
   "source": [
    "## 3-1 Creating vectorizer and Vectoring `'tags'` to 2D array <a name=\"3-1\"></a>"
   ]
  },
  {
   "cell_type": "code",
   "execution_count": null,
   "id": "e510ca78",
   "metadata": {},
   "outputs": [],
   "source": [
    "cv = CountVectorizer(max_features=5000, stop_words='english')\n",
    "vectors = cv.fit_transform(campaign_data_model['tags']).toarray()\n",
    "\n",
    "# verify shape and # of features\n",
    "vectors.shape"
   ]
  },
  {
   "cell_type": "markdown",
   "id": "4f28ba8b",
   "metadata": {},
   "source": [
    "## 3-2 Stemming `'tags'` to improve NLP accuracy <a name=\"3-2\"></a>"
   ]
  },
  {
   "cell_type": "code",
   "execution_count": null,
   "id": "30691d4a",
   "metadata": {},
   "outputs": [],
   "source": [
    "ps = PorterStemmer()\n",
    "def stem(text):\n",
    "    y=[]\n",
    "    for i in text.split():\n",
    "        y.append(ps.stem(i))\n",
    "    return ' '.join(y)"
   ]
  },
  {
   "cell_type": "code",
   "execution_count": null,
   "id": "05a2500e",
   "metadata": {},
   "outputs": [],
   "source": [
    "# apply to `tags`\n",
    "campaign_data_model['tags'] = campaign_data_model['tags'].apply(stem)\n",
    "\n",
    "# create similarity matrix using cos similarity\n",
    "similarity = cosine_similarity(vectors)"
   ]
  },
  {
   "cell_type": "code",
   "execution_count": null,
   "id": "de146d63",
   "metadata": {},
   "outputs": [],
   "source": [
    "# Manual check-up to see if model is behaving as intended, showing top 5 closest 'recommendations' with indexes\n",
    "sorted(list(enumerate(similarity[0])), reverse=True, key=lambda x: x[1])[1:6]"
   ]
  },
  {
   "cell_type": "markdown",
   "id": "926f3882",
   "metadata": {},
   "source": [
    "## 3-3 Final Recommender function creation and testings <a name=\"3-3\"></a> "
   ]
  },
  {
   "cell_type": "code",
   "execution_count": null,
   "id": "93def50b",
   "metadata": {},
   "outputs": [],
   "source": [
    "def recommend(campaign):\n",
    "    campaign_index = campaign_data_model[campaign_data_model['name'] == campaign].index[0]\n",
    "    distances = similarity[campaign_index]\n",
    "    campaign_list = sorted(list(enumerate(distances)), reverse=True, key=lambda x:x[1])[1:6]\n",
    "    \n",
    "    for i in campaign_list:\n",
    "        print(campaign_data_model.iloc[i[0]]['name'])"
   ]
  },
  {
   "cell_type": "code",
   "execution_count": null,
   "id": "389a70a9",
   "metadata": {},
   "outputs": [],
   "source": [
    "# Testing\n",
    "recommend(\"MAD JF-17 Thunder Campaign by Stone Sky\")"
   ]
  },
  {
   "cell_type": "markdown",
   "id": "1ca562f9",
   "metadata": {},
   "source": [
    "## 4-1 Creating the `dcs_recommender` class and relating functions <a name=\"4-1\"></a> "
   ]
  },
  {
   "cell_type": "code",
   "execution_count": 4,
   "id": "4e7d43a5",
   "metadata": {},
   "outputs": [
    {
     "name": "stdout",
     "output_type": "stream",
     "text": [
      "\u001b[0;31mInit signature:\u001b[0m \u001b[0mDCSRecommender\u001b[0m\u001b[0;34m(\u001b[0m\u001b[0mdataset\u001b[0m\u001b[0;34m)\u001b[0m\u001b[0;34m\u001b[0m\u001b[0;34m\u001b[0m\u001b[0m\n",
      "\u001b[0;31mDocstring:\u001b[0m     \n",
      "This is a experimental non-commercial project by Donghang WU\n",
      "    - The project intend to recommend relevant campaigns to players using\n",
      "    the PorterStemmer NLP algorithm as a content-based processor\n",
      "    \n",
      "    - GUI and other front-end application will be added for UX and first stage implementation\n",
      "    - Collaborative filtering may be added if data becomes available\n",
      "\n",
      "\n",
      "\n",
      "The recommender takes in 1 dataset argument\n",
      "\n",
      "**dataset must be prepared for nltk,\n",
      "all features must been concatenated in 'tags' column form and lowercased\n",
      "\n",
      "There are two functions currently available:\n",
      "\n",
      "- choose_campaign: allow user to choose desired campaign from list \n",
      "\n",
      "- *recommend: recommend campaign using user choice or direct input \n",
      "  (input must be exact excluding \"DCS:\" from the title)\n",
      "\n",
      "PACKAGE REQUIREMENTS:\n",
      "    import pandas as pd\n",
      "    import time\n",
      "    from sklearn.feature_extraction.text import CountVectorizer\n",
      "    from nltk.stem.porter import PorterStemmer\n",
      "    from sklearn.metrics.pairwise import cosine_similarity\n",
      "\n",
      "\n",
      "*make sure to run **df['tags'] = df['tags'].apply(rec.stem)** before running the recommend method\n",
      "**temporary\n",
      "\u001b[0;31mFile:\u001b[0m           ~/Documents/GitHub/data-science-portfolio/DCS Recommender v0.1/dcs_recommender.py\n",
      "\u001b[0;31mType:\u001b[0m           type\n",
      "\u001b[0;31mSubclasses:\u001b[0m     \n"
     ]
    }
   ],
   "source": [
    "from dcs_recommender import DCSRecommender\n",
    "\n",
    "DCSRecommender?"
   ]
  },
  {
   "cell_type": "markdown",
   "id": "69f2b7c6",
   "metadata": {},
   "source": [
    "## 4-2 Testing `dcs_recommender` and its methods <a class='4-2'></a> "
   ]
  },
  {
   "cell_type": "code",
   "execution_count": 1,
   "id": "8e8fc702",
   "metadata": {},
   "outputs": [
    {
     "name": "stdout",
     "output_type": "stream",
     "text": [
      "------ Welcome to the DCS Campaign Recommender! ------ \n",
      " You can use \"choose_campaign\" method to choose an campaign from our list \n",
      " Already knew what you own/want? \n",
      " Try using \"recommend\" method and input exact campaign name as argument \n",
      " Our mighty R2D2 will recommend some campaigns for you to purchase in the future!\n"
     ]
    }
   ],
   "source": [
    "import pandas as pd\n",
    "import time\n",
    "from sklearn.feature_extraction.text import CountVectorizer\n",
    "from nltk.stem.porter import PorterStemmer\n",
    "from sklearn.metrics.pairwise import cosine_similarity\n",
    "\n",
    "campaign_data_model = pd.read_csv('dcs_campaign_data_tagged.csv')\n",
    "rec = DCSRecommender(campaign_data_model)\n",
    "campaign_data_model['tags'] = campaign_data_model['tags'].apply(rec.stem)"
   ]
  },
  {
   "cell_type": "code",
   "execution_count": 11,
   "id": "9798e9d1",
   "metadata": {},
   "outputs": [
    {
     "name": "stdout",
     "output_type": "stream",
     "text": [
      "Is there a particular airframe era you are looking for?\n",
      "Please enter \"yes\" or \"no\"!\n",
      "yes\n",
      "What is the airframe era (ww2, coldwar, modern, other)?\n",
      "ohter\n",
      "You have 3 chances left\n",
      "Please enter a valid kind!\n",
      "other\n",
      "This is the list of other campaigns that has no module name\n",
      "15       Ka-50 2 Pandemic Campaign by Armen Murazyan\n",
      "6                          MAD Campaign by Stone Sky\n",
      "47             The Border Campaign by Armen Murazyan\n",
      "31    The Enemy Within 3.0 Campaign by Baltic Dragon\n",
      "51            The Museum Relic Campaign by Apache600\n",
      "Name: name, dtype: object\n",
      "Please make your choice:\n",
      "MAD Campaign by Stone Sky\n",
      "You have chosen MAD Campaign by Stone Sky,\n",
      " that is a great choice!\n"
     ]
    }
   ],
   "source": [
    "rec.choose_campaign()"
   ]
  },
  {
   "cell_type": "code",
   "execution_count": 12,
   "id": "5c757a10",
   "metadata": {},
   "outputs": [
    {
     "name": "stdout",
     "output_type": "stream",
     "text": [
      "Based on your choice, we also recommend the following campaign\n",
      "MAD JF-17 Thunder Campaign by Stone Sky\n",
      "F/A-18C Rise of the Persian Lion Campaign by Badger 633\n",
      "Spitfire LF Mk. IX Operation Epsom Campaign by B&W Campaigns\n",
      "P-51D Charnwood Campaign by B&W Campaigns\n",
      "A-10C Operation Persian Freedom Campaign by Ground Pounder Sims\n"
     ]
    }
   ],
   "source": [
    "rec.recommend()"
   ]
  },
  {
   "cell_type": "code",
   "execution_count": 8,
   "id": "745f0533",
   "metadata": {},
   "outputs": [
    {
     "name": "stdout",
     "output_type": "stream",
     "text": [
      "Based on your choice, we also recommend the following campaign\n",
      "F-5E Black Sea Resolve '79 Campaign by SorelRo\n",
      "P-51D Charnwood Campaign by B&W Campaigns\n",
      "AV-8B Hormuz Freedom Campaign by SorelRo\n",
      "The Enemy Within 3.0 Campaign by Baltic Dragon\n",
      "Spitfire LF Mk. IX Operation Epsom Campaign by B&W Campaigns\n"
     ]
    }
   ],
   "source": [
    "a = 'A-10C Basic Flight Training Campaign by Maple Flag Missions'\n",
    "b = 'Su-27 The Ultimate Argument Campaign'\n",
    "rec.recommend('MiG-21bis Battle of Krasnodar Campaign by SorelRo')"
   ]
  }
 ],
 "metadata": {
  "kernelspec": {
   "display_name": "Python 3.10.2 64-bit",
   "language": "python",
   "name": "python3"
  },
  "language_info": {
   "codemirror_mode": {
    "name": "ipython",
    "version": 3
   },
   "file_extension": ".py",
   "mimetype": "text/x-python",
   "name": "python",
   "nbconvert_exporter": "python",
   "pygments_lexer": "ipython3",
   "version": "3.10.2"
  },
  "vscode": {
   "interpreter": {
    "hash": "aee8b7b246df8f9039afb4144a1f6fd8d2ca17a180786b69acc140d282b71a49"
   }
  }
 },
 "nbformat": 4,
 "nbformat_minor": 5
}
